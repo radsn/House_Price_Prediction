{
 "cells": [
  {
   "cell_type": "code",
   "execution_count": 1,
   "metadata": {},
   "outputs": [],
   "source": [
    "# import libraries\n",
    "import pandas as pd\n",
    "import numpy as np\n",
    "import matplotlib.pyplot as plt\n",
    "import seaborn as sns\n",
    "\n",
    "import scipy.stats as stats\n",
    "import warnings\n",
    "warnings.filterwarnings('ignore')\n",
    "\n",
    "from sklearn.preprocessing import StandardScaler, RobustScaler, PowerTransformer\n",
    "from sklearn.model_selection import cross_val_score, train_test_split, KFold, GridSearchCV\n",
    "from sklearn.linear_model import LinearRegression, Lasso, LassoCV, Ridge, RidgeCV, ElasticNet, ElasticNetCV \n",
    "from sklearn.metrics import mean_squared_error\n",
    "from sklearn.dummy import DummyRegressor\n",
    "\n",
    "pd.set_option('display.max_columns', None)\n",
    "%matplotlib inline"
   ]
  },
  {
   "cell_type": "code",
   "execution_count": 2,
   "metadata": {},
   "outputs": [],
   "source": [
    "train = pd.read_csv('./data/train_cleaned.csv')"
   ]
  },
  {
   "cell_type": "code",
   "execution_count": 3,
   "metadata": {},
   "outputs": [
    {
     "data": {
      "text/html": [
       "<div>\n",
       "<style scoped>\n",
       "    .dataframe tbody tr th:only-of-type {\n",
       "        vertical-align: middle;\n",
       "    }\n",
       "\n",
       "    .dataframe tbody tr th {\n",
       "        vertical-align: top;\n",
       "    }\n",
       "\n",
       "    .dataframe thead th {\n",
       "        text-align: right;\n",
       "    }\n",
       "</style>\n",
       "<table border=\"1\" class=\"dataframe\">\n",
       "  <thead>\n",
       "    <tr style=\"text-align: right;\">\n",
       "      <th></th>\n",
       "      <th>Unnamed: 0</th>\n",
       "      <th>index</th>\n",
       "      <th>id</th>\n",
       "      <th>mssubclass</th>\n",
       "      <th>mszoning</th>\n",
       "      <th>lotfrontage</th>\n",
       "      <th>lotarea</th>\n",
       "      <th>lotshape</th>\n",
       "      <th>landcontour</th>\n",
       "      <th>lotconfig</th>\n",
       "      <th>landslope</th>\n",
       "      <th>neighborhood</th>\n",
       "      <th>condition1</th>\n",
       "      <th>bldgtype</th>\n",
       "      <th>housestyle</th>\n",
       "      <th>overallqual</th>\n",
       "      <th>overallcond</th>\n",
       "      <th>yearbuilt</th>\n",
       "      <th>roofstyle</th>\n",
       "      <th>masvnrtype</th>\n",
       "      <th>masvnrarea</th>\n",
       "      <th>exterqual</th>\n",
       "      <th>foundation</th>\n",
       "      <th>bsmtqual</th>\n",
       "      <th>bsmtexposure</th>\n",
       "      <th>bsmtfintype1</th>\n",
       "      <th>bsmtfinsf1</th>\n",
       "      <th>bsmtunfsf</th>\n",
       "      <th>heatingqc</th>\n",
       "      <th>grlivarea</th>\n",
       "      <th>bsmtfullbath</th>\n",
       "      <th>fullbath</th>\n",
       "      <th>halfbath</th>\n",
       "      <th>bedroomabvgr</th>\n",
       "      <th>kitchenabvgr</th>\n",
       "      <th>kitchenqual</th>\n",
       "      <th>functional</th>\n",
       "      <th>fireplaces</th>\n",
       "      <th>fireplacequ</th>\n",
       "      <th>garagetype</th>\n",
       "      <th>garagefinish</th>\n",
       "      <th>garagearea</th>\n",
       "      <th>garagecond</th>\n",
       "      <th>wooddecksf</th>\n",
       "      <th>mosold</th>\n",
       "      <th>yrsold</th>\n",
       "      <th>saleprice</th>\n",
       "      <th>porchpres</th>\n",
       "      <th>poolpres</th>\n",
       "      <th>garagepres</th>\n",
       "      <th>fireplacepres</th>\n",
       "      <th>masvnrpres</th>\n",
       "      <th>bsmtpres</th>\n",
       "      <th>shedpres</th>\n",
       "      <th>exterior</th>\n",
       "      <th>age_sold</th>\n",
       "      <th>remodelled</th>\n",
       "      <th>2ndfloorpres</th>\n",
       "      <th>bighouse</th>\n",
       "    </tr>\n",
       "  </thead>\n",
       "  <tbody>\n",
       "    <tr>\n",
       "      <th>0</th>\n",
       "      <td>0</td>\n",
       "      <td>0</td>\n",
       "      <td>109</td>\n",
       "      <td>60</td>\n",
       "      <td>RL</td>\n",
       "      <td>5.968981</td>\n",
       "      <td>21.101398</td>\n",
       "      <td>0.730463</td>\n",
       "      <td>Lvl</td>\n",
       "      <td>CulDSac</td>\n",
       "      <td>flat</td>\n",
       "      <td>Sawyer</td>\n",
       "      <td>RRAe</td>\n",
       "      <td>1Fam</td>\n",
       "      <td>2Story</td>\n",
       "      <td>6</td>\n",
       "      <td>2.602594</td>\n",
       "      <td>14.145138</td>\n",
       "      <td>Gable</td>\n",
       "      <td>BrkFace</td>\n",
       "      <td>8.938501</td>\n",
       "      <td>1.820334</td>\n",
       "      <td>CBlock</td>\n",
       "      <td>1.540963</td>\n",
       "      <td>0.730463</td>\n",
       "      <td>GLQ</td>\n",
       "      <td>10.435059</td>\n",
       "      <td>8.013884</td>\n",
       "      <td>2.055642</td>\n",
       "      <td>13.260612</td>\n",
       "      <td>0.000000</td>\n",
       "      <td>2</td>\n",
       "      <td>0.730463</td>\n",
       "      <td>1.540963</td>\n",
       "      <td>0.730463</td>\n",
       "      <td>1.820334</td>\n",
       "      <td>Typ</td>\n",
       "      <td>0.000000</td>\n",
       "      <td>0</td>\n",
       "      <td>Attchd</td>\n",
       "      <td>RFn</td>\n",
       "      <td>475.0</td>\n",
       "      <td>TA</td>\n",
       "      <td>0.00000</td>\n",
       "      <td>1.540963</td>\n",
       "      <td>2010</td>\n",
       "      <td>32.350059</td>\n",
       "      <td>1</td>\n",
       "      <td>0</td>\n",
       "      <td>1</td>\n",
       "      <td>0</td>\n",
       "      <td>1</td>\n",
       "      <td>1</td>\n",
       "      <td>0</td>\n",
       "      <td>Wood</td>\n",
       "      <td>4.697012</td>\n",
       "      <td>1.0</td>\n",
       "      <td>1</td>\n",
       "      <td>0.0</td>\n",
       "    </tr>\n",
       "    <tr>\n",
       "      <th>1</th>\n",
       "      <td>1</td>\n",
       "      <td>1</td>\n",
       "      <td>544</td>\n",
       "      <td>60</td>\n",
       "      <td>RL</td>\n",
       "      <td>5.093857</td>\n",
       "      <td>20.433612</td>\n",
       "      <td>0.730463</td>\n",
       "      <td>Lvl</td>\n",
       "      <td>CulDSac</td>\n",
       "      <td>flat</td>\n",
       "      <td>SawyerW</td>\n",
       "      <td>Norm</td>\n",
       "      <td>1Fam</td>\n",
       "      <td>2Story</td>\n",
       "      <td>7</td>\n",
       "      <td>2.055642</td>\n",
       "      <td>14.176584</td>\n",
       "      <td>Gable</td>\n",
       "      <td>BrkFace</td>\n",
       "      <td>7.216434</td>\n",
       "      <td>1.820334</td>\n",
       "      <td>PConc</td>\n",
       "      <td>1.820334</td>\n",
       "      <td>0.730463</td>\n",
       "      <td>GLQ</td>\n",
       "      <td>10.897674</td>\n",
       "      <td>8.831514</td>\n",
       "      <td>2.055642</td>\n",
       "      <td>14.368756</td>\n",
       "      <td>0.730463</td>\n",
       "      <td>2</td>\n",
       "      <td>0.730463</td>\n",
       "      <td>1.820334</td>\n",
       "      <td>0.730463</td>\n",
       "      <td>1.820334</td>\n",
       "      <td>Typ</td>\n",
       "      <td>0.730463</td>\n",
       "      <td>3</td>\n",
       "      <td>Attchd</td>\n",
       "      <td>RFn</td>\n",
       "      <td>559.0</td>\n",
       "      <td>TA</td>\n",
       "      <td>0.00000</td>\n",
       "      <td>1.820334</td>\n",
       "      <td>2009</td>\n",
       "      <td>35.529446</td>\n",
       "      <td>1</td>\n",
       "      <td>0</td>\n",
       "      <td>1</td>\n",
       "      <td>1</td>\n",
       "      <td>1</td>\n",
       "      <td>1</td>\n",
       "      <td>0</td>\n",
       "      <td>Vinyl</td>\n",
       "      <td>3.237728</td>\n",
       "      <td>1.0</td>\n",
       "      <td>1</td>\n",
       "      <td>0.0</td>\n",
       "    </tr>\n",
       "    <tr>\n",
       "      <th>2</th>\n",
       "      <td>2</td>\n",
       "      <td>2</td>\n",
       "      <td>153</td>\n",
       "      <td>20</td>\n",
       "      <td>RL</td>\n",
       "      <td>5.914940</td>\n",
       "      <td>18.962955</td>\n",
       "      <td>0.000000</td>\n",
       "      <td>Lvl</td>\n",
       "      <td>Inside</td>\n",
       "      <td>flat</td>\n",
       "      <td>NAmes</td>\n",
       "      <td>Norm</td>\n",
       "      <td>1Fam</td>\n",
       "      <td>1Story</td>\n",
       "      <td>5</td>\n",
       "      <td>2.440268</td>\n",
       "      <td>14.108639</td>\n",
       "      <td>Gable</td>\n",
       "      <td>None</td>\n",
       "      <td>0.000000</td>\n",
       "      <td>1.540963</td>\n",
       "      <td>CBlock</td>\n",
       "      <td>1.540963</td>\n",
       "      <td>0.730463</td>\n",
       "      <td>GLQ</td>\n",
       "      <td>11.263544</td>\n",
       "      <td>9.222126</td>\n",
       "      <td>1.540963</td>\n",
       "      <td>12.282128</td>\n",
       "      <td>0.730463</td>\n",
       "      <td>1</td>\n",
       "      <td>0.000000</td>\n",
       "      <td>1.540963</td>\n",
       "      <td>0.730463</td>\n",
       "      <td>1.820334</td>\n",
       "      <td>Typ</td>\n",
       "      <td>0.000000</td>\n",
       "      <td>0</td>\n",
       "      <td>Detchd</td>\n",
       "      <td>Unf</td>\n",
       "      <td>246.0</td>\n",
       "      <td>TA</td>\n",
       "      <td>0.00000</td>\n",
       "      <td>0.730463</td>\n",
       "      <td>2010</td>\n",
       "      <td>31.310566</td>\n",
       "      <td>1</td>\n",
       "      <td>0</td>\n",
       "      <td>1</td>\n",
       "      <td>0</td>\n",
       "      <td>0</td>\n",
       "      <td>1</td>\n",
       "      <td>0</td>\n",
       "      <td>Vinyl</td>\n",
       "      <td>5.591427</td>\n",
       "      <td>1.0</td>\n",
       "      <td>0</td>\n",
       "      <td>0.0</td>\n",
       "    </tr>\n",
       "    <tr>\n",
       "      <th>3</th>\n",
       "      <td>3</td>\n",
       "      <td>3</td>\n",
       "      <td>318</td>\n",
       "      <td>60</td>\n",
       "      <td>RL</td>\n",
       "      <td>6.047664</td>\n",
       "      <td>19.794720</td>\n",
       "      <td>0.000000</td>\n",
       "      <td>Lvl</td>\n",
       "      <td>Inside</td>\n",
       "      <td>flat</td>\n",
       "      <td>Timber</td>\n",
       "      <td>Norm</td>\n",
       "      <td>1Fam</td>\n",
       "      <td>2Story</td>\n",
       "      <td>5</td>\n",
       "      <td>2.055642</td>\n",
       "      <td>14.192207</td>\n",
       "      <td>Gable</td>\n",
       "      <td>None</td>\n",
       "      <td>0.000000</td>\n",
       "      <td>1.540963</td>\n",
       "      <td>PConc</td>\n",
       "      <td>1.820334</td>\n",
       "      <td>0.730463</td>\n",
       "      <td>Unf</td>\n",
       "      <td>0.000000</td>\n",
       "      <td>9.616087</td>\n",
       "      <td>1.820334</td>\n",
       "      <td>13.189203</td>\n",
       "      <td>0.000000</td>\n",
       "      <td>2</td>\n",
       "      <td>0.730463</td>\n",
       "      <td>1.540963</td>\n",
       "      <td>0.730463</td>\n",
       "      <td>1.540963</td>\n",
       "      <td>Typ</td>\n",
       "      <td>0.000000</td>\n",
       "      <td>0</td>\n",
       "      <td>BuiltIn</td>\n",
       "      <td>Fin</td>\n",
       "      <td>400.0</td>\n",
       "      <td>TA</td>\n",
       "      <td>6.65495</td>\n",
       "      <td>1.820334</td>\n",
       "      <td>2010</td>\n",
       "      <td>34.070564</td>\n",
       "      <td>0</td>\n",
       "      <td>0</td>\n",
       "      <td>1</td>\n",
       "      <td>0</td>\n",
       "      <td>0</td>\n",
       "      <td>1</td>\n",
       "      <td>0</td>\n",
       "      <td>Vinyl</td>\n",
       "      <td>1.820334</td>\n",
       "      <td>1.0</td>\n",
       "      <td>1</td>\n",
       "      <td>0.0</td>\n",
       "    </tr>\n",
       "    <tr>\n",
       "      <th>4</th>\n",
       "      <td>4</td>\n",
       "      <td>4</td>\n",
       "      <td>255</td>\n",
       "      <td>50</td>\n",
       "      <td>RL</td>\n",
       "      <td>6.268453</td>\n",
       "      <td>21.317794</td>\n",
       "      <td>0.730463</td>\n",
       "      <td>Lvl</td>\n",
       "      <td>Inside</td>\n",
       "      <td>flat</td>\n",
       "      <td>SawyerW</td>\n",
       "      <td>Norm</td>\n",
       "      <td>1Fam</td>\n",
       "      <td>1.5Fin</td>\n",
       "      <td>6</td>\n",
       "      <td>2.602594</td>\n",
       "      <td>14.023122</td>\n",
       "      <td>Gable</td>\n",
       "      <td>None</td>\n",
       "      <td>0.000000</td>\n",
       "      <td>1.540963</td>\n",
       "      <td>PConc</td>\n",
       "      <td>1.194318</td>\n",
       "      <td>0.730463</td>\n",
       "      <td>Unf</td>\n",
       "      <td>0.000000</td>\n",
       "      <td>11.054693</td>\n",
       "      <td>1.540963</td>\n",
       "      <td>13.191264</td>\n",
       "      <td>0.000000</td>\n",
       "      <td>2</td>\n",
       "      <td>0.000000</td>\n",
       "      <td>1.540963</td>\n",
       "      <td>0.730463</td>\n",
       "      <td>1.540963</td>\n",
       "      <td>Typ</td>\n",
       "      <td>0.000000</td>\n",
       "      <td>0</td>\n",
       "      <td>Detchd</td>\n",
       "      <td>Unf</td>\n",
       "      <td>484.0</td>\n",
       "      <td>TA</td>\n",
       "      <td>0.00000</td>\n",
       "      <td>1.540963</td>\n",
       "      <td>2010</td>\n",
       "      <td>32.699822</td>\n",
       "      <td>1</td>\n",
       "      <td>0</td>\n",
       "      <td>1</td>\n",
       "      <td>0</td>\n",
       "      <td>0</td>\n",
       "      <td>1</td>\n",
       "      <td>0</td>\n",
       "      <td>Wood</td>\n",
       "      <td>6.844946</td>\n",
       "      <td>1.0</td>\n",
       "      <td>1</td>\n",
       "      <td>0.0</td>\n",
       "    </tr>\n",
       "  </tbody>\n",
       "</table>\n",
       "</div>"
      ],
      "text/plain": [
       "   Unnamed: 0  index   id  mssubclass mszoning  lotfrontage    lotarea  \\\n",
       "0           0      0  109          60       RL     5.968981  21.101398   \n",
       "1           1      1  544          60       RL     5.093857  20.433612   \n",
       "2           2      2  153          20       RL     5.914940  18.962955   \n",
       "3           3      3  318          60       RL     6.047664  19.794720   \n",
       "4           4      4  255          50       RL     6.268453  21.317794   \n",
       "\n",
       "   lotshape landcontour lotconfig landslope neighborhood condition1 bldgtype  \\\n",
       "0  0.730463         Lvl   CulDSac      flat       Sawyer       RRAe     1Fam   \n",
       "1  0.730463         Lvl   CulDSac      flat      SawyerW       Norm     1Fam   \n",
       "2  0.000000         Lvl    Inside      flat        NAmes       Norm     1Fam   \n",
       "3  0.000000         Lvl    Inside      flat       Timber       Norm     1Fam   \n",
       "4  0.730463         Lvl    Inside      flat      SawyerW       Norm     1Fam   \n",
       "\n",
       "  housestyle  overallqual  overallcond  yearbuilt roofstyle masvnrtype  \\\n",
       "0     2Story            6     2.602594  14.145138     Gable    BrkFace   \n",
       "1     2Story            7     2.055642  14.176584     Gable    BrkFace   \n",
       "2     1Story            5     2.440268  14.108639     Gable       None   \n",
       "3     2Story            5     2.055642  14.192207     Gable       None   \n",
       "4     1.5Fin            6     2.602594  14.023122     Gable       None   \n",
       "\n",
       "   masvnrarea  exterqual foundation  bsmtqual  bsmtexposure bsmtfintype1  \\\n",
       "0    8.938501   1.820334     CBlock  1.540963      0.730463          GLQ   \n",
       "1    7.216434   1.820334      PConc  1.820334      0.730463          GLQ   \n",
       "2    0.000000   1.540963     CBlock  1.540963      0.730463          GLQ   \n",
       "3    0.000000   1.540963      PConc  1.820334      0.730463          Unf   \n",
       "4    0.000000   1.540963      PConc  1.194318      0.730463          Unf   \n",
       "\n",
       "   bsmtfinsf1  bsmtunfsf  heatingqc  grlivarea  bsmtfullbath  fullbath  \\\n",
       "0   10.435059   8.013884   2.055642  13.260612      0.000000         2   \n",
       "1   10.897674   8.831514   2.055642  14.368756      0.730463         2   \n",
       "2   11.263544   9.222126   1.540963  12.282128      0.730463         1   \n",
       "3    0.000000   9.616087   1.820334  13.189203      0.000000         2   \n",
       "4    0.000000  11.054693   1.540963  13.191264      0.000000         2   \n",
       "\n",
       "   halfbath  bedroomabvgr  kitchenabvgr  kitchenqual functional  fireplaces  \\\n",
       "0  0.730463      1.540963      0.730463     1.820334        Typ    0.000000   \n",
       "1  0.730463      1.820334      0.730463     1.820334        Typ    0.730463   \n",
       "2  0.000000      1.540963      0.730463     1.820334        Typ    0.000000   \n",
       "3  0.730463      1.540963      0.730463     1.540963        Typ    0.000000   \n",
       "4  0.000000      1.540963      0.730463     1.540963        Typ    0.000000   \n",
       "\n",
       "   fireplacequ garagetype garagefinish  garagearea garagecond  wooddecksf  \\\n",
       "0            0     Attchd          RFn       475.0         TA     0.00000   \n",
       "1            3     Attchd          RFn       559.0         TA     0.00000   \n",
       "2            0     Detchd          Unf       246.0         TA     0.00000   \n",
       "3            0    BuiltIn          Fin       400.0         TA     6.65495   \n",
       "4            0     Detchd          Unf       484.0         TA     0.00000   \n",
       "\n",
       "     mosold  yrsold  saleprice  porchpres  poolpres  garagepres  \\\n",
       "0  1.540963    2010  32.350059          1         0           1   \n",
       "1  1.820334    2009  35.529446          1         0           1   \n",
       "2  0.730463    2010  31.310566          1         0           1   \n",
       "3  1.820334    2010  34.070564          0         0           1   \n",
       "4  1.540963    2010  32.699822          1         0           1   \n",
       "\n",
       "   fireplacepres  masvnrpres  bsmtpres  shedpres exterior  age_sold  \\\n",
       "0              0           1         1         0     Wood  4.697012   \n",
       "1              1           1         1         0    Vinyl  3.237728   \n",
       "2              0           0         1         0    Vinyl  5.591427   \n",
       "3              0           0         1         0    Vinyl  1.820334   \n",
       "4              0           0         1         0     Wood  6.844946   \n",
       "\n",
       "   remodelled  2ndfloorpres  bighouse  \n",
       "0         1.0             1       0.0  \n",
       "1         1.0             1       0.0  \n",
       "2         1.0             0       0.0  \n",
       "3         1.0             1       0.0  \n",
       "4         1.0             1       0.0  "
      ]
     },
     "execution_count": 3,
     "metadata": {},
     "output_type": "execute_result"
    }
   ],
   "source": [
    "train.head()"
   ]
  },
  {
   "cell_type": "code",
   "execution_count": 4,
   "metadata": {},
   "outputs": [],
   "source": [
    "# remove unnamed and index columns:\n",
    "train = train.iloc[:, 2:]"
   ]
  },
  {
   "cell_type": "code",
   "execution_count": 5,
   "metadata": {},
   "outputs": [
    {
     "name": "stdout",
     "output_type": "stream",
     "text": [
      "Train shape:  (2046, 57)\n"
     ]
    }
   ],
   "source": [
    "print(\"Train shape: \", train.shape)"
   ]
  },
  {
   "cell_type": "code",
   "execution_count": 6,
   "metadata": {
    "scrolled": false
   },
   "outputs": [
    {
     "name": "stdout",
     "output_type": "stream",
     "text": [
      "<class 'pandas.core.frame.DataFrame'>\n",
      "RangeIndex: 2046 entries, 0 to 2045\n",
      "Data columns (total 57 columns):\n",
      "id               2046 non-null int64\n",
      "mssubclass       2046 non-null int64\n",
      "mszoning         2046 non-null object\n",
      "lotfrontage      2046 non-null float64\n",
      "lotarea          2046 non-null float64\n",
      "lotshape         2046 non-null float64\n",
      "landcontour      2046 non-null object\n",
      "lotconfig        2046 non-null object\n",
      "landslope        2046 non-null object\n",
      "neighborhood     2046 non-null object\n",
      "condition1       2046 non-null object\n",
      "bldgtype         2046 non-null object\n",
      "housestyle       2046 non-null object\n",
      "overallqual      2046 non-null int64\n",
      "overallcond      2046 non-null float64\n",
      "yearbuilt        2046 non-null float64\n",
      "roofstyle        2046 non-null object\n",
      "masvnrtype       2046 non-null object\n",
      "masvnrarea       2046 non-null float64\n",
      "exterqual        2046 non-null float64\n",
      "foundation       2046 non-null object\n",
      "bsmtqual         2046 non-null float64\n",
      "bsmtexposure     2046 non-null float64\n",
      "bsmtfintype1     2046 non-null object\n",
      "bsmtfinsf1       2046 non-null float64\n",
      "bsmtunfsf        2046 non-null float64\n",
      "heatingqc        2046 non-null float64\n",
      "grlivarea        2046 non-null float64\n",
      "bsmtfullbath     2046 non-null float64\n",
      "fullbath         2046 non-null int64\n",
      "halfbath         2046 non-null float64\n",
      "bedroomabvgr     2046 non-null float64\n",
      "kitchenabvgr     2046 non-null float64\n",
      "kitchenqual      2046 non-null float64\n",
      "functional       2046 non-null object\n",
      "fireplaces       2046 non-null float64\n",
      "fireplacequ      2046 non-null int64\n",
      "garagetype       2046 non-null object\n",
      "garagefinish     2046 non-null object\n",
      "garagearea       2046 non-null float64\n",
      "garagecond       2046 non-null object\n",
      "wooddecksf       2046 non-null float64\n",
      "mosold           2046 non-null float64\n",
      "yrsold           2046 non-null int64\n",
      "saleprice        2046 non-null float64\n",
      "porchpres        2046 non-null int64\n",
      "poolpres         2046 non-null int64\n",
      "garagepres       2046 non-null int64\n",
      "fireplacepres    2046 non-null int64\n",
      "masvnrpres       2046 non-null int64\n",
      "bsmtpres         2046 non-null int64\n",
      "shedpres         2046 non-null int64\n",
      "exterior         2046 non-null object\n",
      "age_sold         2046 non-null float64\n",
      "remodelled       2046 non-null float64\n",
      "2ndfloorpres     2046 non-null int64\n",
      "bighouse         2046 non-null float64\n",
      "dtypes: float64(26), int64(14), object(17)\n",
      "memory usage: 911.2+ KB\n"
     ]
    }
   ],
   "source": [
    "train.info()\n",
    "# convert mssubclass to string again since it got converted back to int on import\n",
    "train['mssubclass'] = train['mssubclass'].astype(str)"
   ]
  },
  {
   "cell_type": "code",
   "execution_count": 7,
   "metadata": {},
   "outputs": [
    {
     "data": {
      "text/plain": [
       "(2046, 160)"
      ]
     },
     "execution_count": 7,
     "metadata": {},
     "output_type": "execute_result"
    }
   ],
   "source": [
    "#### One-hot encoding:\n",
    "train_dummies = pd.get_dummies(train, drop_first = True)\n",
    "train_dummies.shape"
   ]
  },
  {
   "cell_type": "code",
   "execution_count": 8,
   "metadata": {},
   "outputs": [
    {
     "name": "stdout",
     "output_type": "stream",
     "text": [
      "(2046, 159)\n",
      "(2046, 1)\n"
     ]
    }
   ],
   "source": [
    "x = train_dummies.loc[:, train_dummies.columns != 'saleprice']\n",
    "y = train_dummies[['saleprice']]\n",
    "print(x.shape)\n",
    "print(y.shape)"
   ]
  },
  {
   "cell_type": "markdown",
   "metadata": {},
   "source": [
    "### Train-Test split train data:"
   ]
  },
  {
   "cell_type": "code",
   "execution_count": 9,
   "metadata": {},
   "outputs": [
    {
     "name": "stdout",
     "output_type": "stream",
     "text": [
      "(1432, 159)\n",
      "(614, 159)\n"
     ]
    }
   ],
   "source": [
    "np.random.seed(100)\n",
    "xtrain,xtest,ytrain,ytest = train_test_split(x, y, test_size = 0.3, random_state = 7)\n",
    "print(xtrain.shape)\n",
    "print(xtest.shape)"
   ]
  },
  {
   "cell_type": "code",
   "execution_count": 10,
   "metadata": {},
   "outputs": [],
   "source": [
    "scaler = StandardScaler()\n",
    "\n",
    "xtrain_scaled = scaler.fit_transform(xtrain)\n",
    "xtest_scaled = scaler.transform(xtest)"
   ]
  },
  {
   "cell_type": "markdown",
   "metadata": {},
   "source": [
    "### Hyperparameter Tuning:"
   ]
  },
  {
   "cell_type": "markdown",
   "metadata": {},
   "source": [
    "#### Lasso $\\alpha$:"
   ]
  },
  {
   "cell_type": "code",
   "execution_count": 11,
   "metadata": {},
   "outputs": [
    {
     "name": "stdout",
     "output_type": "stream",
     "text": [
      "optimal lasso alpha:  0.013500000000000002\n",
      "best lasso R2:  0.9384360379997755\n"
     ]
    }
   ],
   "source": [
    "l_alpha = np.arange(0.001,0.15,0.0025)\n",
    "\n",
    "# fits multiple alphas\n",
    "lassocv = LassoCV(alphas = l_alpha, cv = 5)\n",
    "lassocv = lassocv.fit(xtrain_scaled, ytrain)\n",
    "\n",
    "print('optimal lasso alpha: ', lassocv.alpha_)\n",
    "print('best lasso R2: ', lassocv.score(xtrain_scaled, ytrain))"
   ]
  },
  {
   "cell_type": "markdown",
   "metadata": {},
   "source": [
    "#### Ridge $\\alpha$:"
   ]
  },
  {
   "cell_type": "code",
   "execution_count": 12,
   "metadata": {
    "scrolled": true
   },
   "outputs": [
    {
     "name": "stdout",
     "output_type": "stream",
     "text": [
      "optimal ridge alpha:  34.09285069746813\n",
      "best ridge R2:  0.9433644535219203\n"
     ]
    }
   ],
   "source": [
    "r_alpha = np.logspace (0,5,200)\n",
    "\n",
    "# fits multiple alphas\n",
    "ridgecv = RidgeCV(alphas = r_alpha, cv = 5)\n",
    "ridgecv = ridgecv.fit(xtrain_scaled, ytrain)\n",
    "\n",
    "print('optimal ridge alpha: ', ridgecv.alpha_)\n",
    "print('best ridge R2: ', ridgecv.score(xtrain_scaled, ytrain))"
   ]
  },
  {
   "cell_type": "markdown",
   "metadata": {},
   "source": [
    "#### Elastic Net $\\lambda$ and $\\alpha$"
   ]
  },
  {
   "cell_type": "code",
   "execution_count": 13,
   "metadata": {},
   "outputs": [
    {
     "name": "stdout",
     "output_type": "stream",
     "text": [
      "optimal enet alpha:  0.015\n",
      "optimal enet lambda:  0.9\n",
      "best elastic net R2:  0.9384213538911115\n"
     ]
    }
   ],
   "source": [
    "enet_alpha = np.arange(0, 1, 0.005)\n",
    "enet_ratio = [.01, .1, .2, .3, .5, .7, .9, .95, .99, 1]\n",
    "\n",
    "# fits multiple alphas and rhos\n",
    "enetcv = ElasticNetCV(alphas = enet_alpha, l1_ratio = enet_ratio, cv = 5)\n",
    "enetcv = enetcv.fit(xtrain_scaled, ytrain)\n",
    "\n",
    "print('optimal enet alpha: ', enetcv.alpha_)\n",
    "print('optimal enet lambda: ', enetcv.l1_ratio_)\n",
    "print('best elastic net R2: ', enetcv.score(xtrain_scaled, ytrain))"
   ]
  },
  {
   "cell_type": "markdown",
   "metadata": {},
   "source": [
    "### Cross Validation:"
   ]
  },
  {
   "cell_type": "markdown",
   "metadata": {},
   "source": [
    "##### instantiate models with previously selected hyperparameters"
   ]
  },
  {
   "cell_type": "code",
   "execution_count": 14,
   "metadata": {},
   "outputs": [],
   "source": [
    "linmod = LinearRegression()\n",
    "lasso = Lasso(alpha = lassocv.alpha_)\n",
    "ridge = Ridge(alpha = ridgecv.alpha_)\n",
    "enet = ElasticNet(alpha = enetcv.alpha_, l1_ratio = enetcv.l1_ratio_)"
   ]
  },
  {
   "cell_type": "code",
   "execution_count": 15,
   "metadata": {},
   "outputs": [],
   "source": [
    "nfolds = 5 \n",
    "np.random.seed(100)\n",
    "\n",
    "def crossval(model, x, y):\n",
    "    kf = KFold(nfolds, shuffle = True, random_state = 7)\n",
    "    rmse = np.sqrt(-cross_val_score(model, x, y, cv = kf, scoring = 'neg_mean_squared_error'))\n",
    "    r2 = cross_val_score(model, x, y, cv = kf)\n",
    "    return 'mean CV R2:', r2.mean(), \\\n",
    "           'mean CV RMSE:', rmse.mean(), \\\n",
    "           'CV R2 variance:', r2.var(), \\\n",
    "           'CV RMSE variance:', rmse.var()"
   ]
  },
  {
   "cell_type": "code",
   "execution_count": 16,
   "metadata": {},
   "outputs": [
    {
     "name": "stdout",
     "output_type": "stream",
     "text": [
      "Baseline model: \n",
      " ('mean CV R2:', -0.018430043011186115, 'mean CV RMSE:', 2.492453070618192, 'CV R2 variance:', 0.0006112643999752674, 'CV RMSE variance:', 0.003806074954455209)\n"
     ]
    }
   ],
   "source": [
    "# baseline model: using dummy regressor for prediction using mean\n",
    "dummy_regressor = DummyRegressor()\n",
    "print('Baseline model: \\n', crossval(dummy_regressor, xtrain_scaled, ytrain))"
   ]
  },
  {
   "cell_type": "code",
   "execution_count": 17,
   "metadata": {},
   "outputs": [
    {
     "name": "stdout",
     "output_type": "stream",
     "text": [
      "Ordinary Linear Regression: \n",
      " ('mean CV R2:', -2.848212960826582e+23, 'mean CV RMSE:', 761867803317.7507, 'CV R2 variance:', 2.950439661963025e+47, 'CV RMSE variance:', 1.2329780200286196e+24)\n"
     ]
    }
   ],
   "source": [
    "# ordinary linear regression\n",
    "print('Ordinary Linear Regression: \\n', crossval(linmod, xtrain_scaled, ytrain))"
   ]
  },
  {
   "cell_type": "code",
   "execution_count": 18,
   "metadata": {},
   "outputs": [
    {
     "name": "stdout",
     "output_type": "stream",
     "text": [
      "Lasso: \n",
      " ('mean CV R2:', 0.9183259312335963, 'mean CV RMSE:', 0.6989278872004749, 'CV R2 variance:', 0.0005921673345533093, 'CV RMSE variance:', 0.009974496339304839)\n"
     ]
    }
   ],
   "source": [
    "# lasso regression\n",
    "print('Lasso: \\n', crossval(lasso, xtrain_scaled, ytrain))"
   ]
  },
  {
   "cell_type": "code",
   "execution_count": 19,
   "metadata": {},
   "outputs": [
    {
     "name": "stdout",
     "output_type": "stream",
     "text": [
      "Ridge: \n",
      " ('mean CV R2:', 0.9170115283836591, 'mean CV RMSE:', 0.7023389996645648, 'CV R2 variance:', 0.0007877025725116325, 'CV RMSE variance:', 0.01340528227058931)\n"
     ]
    }
   ],
   "source": [
    "# ridge regression\n",
    "print('Ridge: \\n', crossval(ridge, xtrain_scaled, ytrain))"
   ]
  },
  {
   "cell_type": "code",
   "execution_count": 20,
   "metadata": {},
   "outputs": [
    {
     "name": "stdout",
     "output_type": "stream",
     "text": [
      "Elastic Net: \n",
      " ('mean CV R2:', 0.9183233271468196, 'mean CV RMSE:', 0.6989408540690764, 'CV R2 variance:', 0.0005922673641543568, 'CV RMSE variance:', 0.009974550564943728)\n"
     ]
    }
   ],
   "source": [
    "# elastic net regression\n",
    "print('Elastic Net: \\n', crossval(enet, xtrain_scaled, ytrain))"
   ]
  },
  {
   "cell_type": "markdown",
   "metadata": {},
   "source": [
    "\n",
    "| Model \t| mean CV R2      \t| mean CV RMSE    \t| var CV R2 | var CV RMSE\n",
    "|-------\t|---------\t|---------\t| ------------| -----------|\n",
    "|Train - Baseline model|-0.01843| 2.49245|0.0006112|0.003806|\n",
    "|Train - Ordinary Linear Regression|-2.84821e+23|761867803317|2.95043e+47|1.23297e+24|\n",
    "|Train - Lasso regression|0.91832|0.69892|0.0005921|0.0099744|\n",
    "|Train - Ridge regression|0.91701|0.702338|0.0007877|0.013405|\n",
    "|Train - Elastic Net regression|0.91832|0.69894|0.0005922|0.009974|"
   ]
  },
  {
   "cell_type": "markdown",
   "metadata": {},
   "source": [
    "The elastic net model performed the best. All regularized models (Lasso, Ridge, Elastic Net) performed better than the ordinary linear model, i.e. small RMSE and R<sup>2</sup> close to 1."
   ]
  },
  {
   "cell_type": "markdown",
   "metadata": {},
   "source": [
    "### Model Evaluation:"
   ]
  },
  {
   "cell_type": "code",
   "execution_count": 21,
   "metadata": {},
   "outputs": [],
   "source": [
    "def rmse(ytest, ypred):\n",
    "    return np.sqrt(mean_squared_error(ytest, ypred))"
   ]
  },
  {
   "cell_type": "code",
   "execution_count": 22,
   "metadata": {},
   "outputs": [
    {
     "name": "stdout",
     "output_type": "stream",
     "text": [
      "Baseline R2: -0.0023493489794239597\n",
      "Baseline RMSE: 2.527262018287956\n"
     ]
    }
   ],
   "source": [
    "# use dummy regressor to predict using mean\n",
    "dummy_regressor = DummyRegressor()\n",
    "baseline_mod = dummy_regressor.fit(xtrain_scaled, ytrain)\n",
    "baseline_pred = dummy_regressor.predict(xtest_scaled)\n",
    "print(f'Baseline R2: {dummy_regressor.score(xtest_scaled, ytest)}')\n",
    "print(f'Baseline RMSE: {rmse(ytest, baseline_pred)}')"
   ]
  },
  {
   "cell_type": "code",
   "execution_count": 23,
   "metadata": {},
   "outputs": [
    {
     "name": "stdout",
     "output_type": "stream",
     "text": [
      "SLR test R2:  -6.02372431004408e+20\n",
      "SLR test RMSE:  61954557255.81955\n"
     ]
    }
   ],
   "source": [
    "# Ordinary linear regression\n",
    "linmod = linmod.fit(xtrain_scaled, ytrain)\n",
    "ypred = linmod.predict(xtest_scaled)\n",
    "print('SLR test R2: ', linmod.score(xtest_scaled, ytest))\n",
    "print('SLR test RMSE: ', rmse(ytest, ypred))"
   ]
  },
  {
   "cell_type": "code",
   "execution_count": 24,
   "metadata": {},
   "outputs": [
    {
     "name": "stdout",
     "output_type": "stream",
     "text": [
      "Lasso test R2:  0.9098774016273719\n",
      "Lasso test RMSE:  0.7578051745768476\n"
     ]
    }
   ],
   "source": [
    "# Lasso\n",
    "lasso_mod = lasso.fit(xtrain_scaled, ytrain)\n",
    "ypred = lasso_mod.predict(xtest_scaled)\n",
    "print('Lasso test R2: ', lasso_mod.score(xtest_scaled, ytest))\n",
    "print('Lasso test RMSE: ', rmse(ytest, ypred))"
   ]
  },
  {
   "cell_type": "code",
   "execution_count": 25,
   "metadata": {
    "scrolled": true
   },
   "outputs": [
    {
     "name": "stdout",
     "output_type": "stream",
     "text": [
      "Ridge test R2:  0.9056387869741976\n",
      "Ridge test RMSE:  0.7754208452539226\n"
     ]
    }
   ],
   "source": [
    "# Ridge\n",
    "ridge_mod = ridge.fit(xtrain_scaled, ytrain)\n",
    "ypred = ridge_mod.predict(xtest_scaled)\n",
    "print('Ridge test R2: ', ridge_mod.score(xtest_scaled, ytest))\n",
    "print('Ridge test RMSE: ', rmse(ytest, ypred))"
   ]
  },
  {
   "cell_type": "code",
   "execution_count": 26,
   "metadata": {},
   "outputs": [
    {
     "name": "stdout",
     "output_type": "stream",
     "text": [
      "Elastic Net test R2:  0.9099483885952923\n",
      "Elastic Net test RMSE:  0.7575066651584799\n"
     ]
    }
   ],
   "source": [
    "# Elastic Net\n",
    "enet_mod = enet.fit(xtrain_scaled, ytrain)\n",
    "ypred = enet_mod.predict(xtest_scaled)\n",
    "print('Elastic Net test R2: ', enet_mod.score(xtest_scaled, ytest))\n",
    "print('Elastic Net test RMSE: ', rmse(ytest, ypred))"
   ]
  },
  {
   "cell_type": "markdown",
   "metadata": {},
   "source": [
    "| Model | Train R2  | Test R2 | Train RMSE | Test RMSE|\n",
    "|-----------|---------|---------|---------|---------| \n",
    "|Baseline Model|-0.01843|-0.0023493|2.49245|2.52726| \n",
    "|Ordinary Linear Regression|-2.84821e+23|-6.0237e+20|761867803317|61954557255|\n",
    "|Lasso Regression|0.918325|0.909877|0.698927|0.757805|\n",
    "|Ridge Regression|0.917011|0.905638|0.702338|0.7754208|\n",
    "|Elastic Net Regression|0.918323|0.909948|0.698940|0.7575066|"
   ]
  },
  {
   "cell_type": "markdown",
   "metadata": {},
   "source": [
    "### Scale data\n",
    "- StandardScaler xtrain and xtest\n",
    "- Box-Cox transform ytrain and ytest"
   ]
  },
  {
   "cell_type": "code",
   "execution_count": 27,
   "metadata": {},
   "outputs": [],
   "source": [
    "from scipy.special import boxcox1p\n",
    "\n",
    "# scale data - standardscaler\n",
    "scaler = StandardScaler()\n",
    "\n",
    "xtrain_scaled = scaler.fit_transform(xtrain)\n",
    "xtest_scaled = scaler.transform(xtest)\n",
    "\n",
    "# ytrain_scaled = scaler.fit_transform(ytrain)\n",
    "# ytest_scaled = scaler.transform(ytest)\n",
    "\n",
    "# transform y\n",
    "ytrain['saleprice'] = boxcox1p(ytrain['saleprice'],0.15)\n",
    "ytest['saleprice'] = boxcox1p(ytest['saleprice'],0.15)"
   ]
  },
  {
   "cell_type": "markdown",
   "metadata": {},
   "source": [
    "### Residuals of Elastic Net Model:"
   ]
  },
  {
   "cell_type": "code",
   "execution_count": 28,
   "metadata": {},
   "outputs": [
    {
     "data": {
      "image/png": "[encoded data removed]",
      "text/plain": [
       "<Figure size 432x360 with 1 Axes>"
      ]
     },
     "metadata": {
      "needs_background": "light"
     },
     "output_type": "display_data"
    }
   ],
   "source": [
    "# plot residuals\n",
    "enet_mod = enet.fit(xtrain_scaled, ytrain)\n",
    "ypred = enet_mod.predict(xtest_scaled)\n",
    "\n",
    "resid = ypred - ytest.saleprice\n",
    "\n",
    "plt.rcParams['figure.figsize'] = (6, 5)\n",
    "plt.scatter(ytest.saleprice, resid)\n",
    "plt.axhline(0, linestyle='-', color='r')\n",
    "plt.title('Residual plot')\n",
    "plt.xlabel('Actual Values')\n",
    "plt.ylabel('Residuals')\n",
    "plt.plot()\n",
    "plt.tight_layout()"
   ]
  },
  {
   "cell_type": "markdown",
   "metadata": {},
   "source": [
    "#### plot of ypred versus ytrue"
   ]
  },
  {
   "cell_type": "code",
   "execution_count": 29,
   "metadata": {},
   "outputs": [
    {
     "data": {
      "image/png": "[encoded data removed]",
      "text/plain": [
       "<Figure size 432x432 with 1 Axes>"
      ]
     },
     "metadata": {
      "needs_background": "light"
     },
     "output_type": "display_data"
    }
   ],
   "source": [
    "fig, ax = plt.subplots(figsize=(6, 6))\n",
    "ax.scatter(ytest.saleprice, ypred)\n",
    "ax.set_title('Predicted values versus Actual values plot')\n",
    "ax.set_xlabel('Actual values')\n",
    "ax.set_ylabel('Predicted values')\n",
    "ax.plot(ax.get_xlim(), ax.get_ylim(), ls=\"-\", c=\"r\")\n",
    "plt.plot([], [], ' ', label=\"model: elastic net\")\n",
    "plt.legend()\n",
    "plt.tight_layout()"
   ]
  },
  {
   "cell_type": "markdown",
   "metadata": {},
   "source": [
    "### Feature Selection:"
   ]
  },
  {
   "cell_type": "code",
   "execution_count": 39,
   "metadata": {},
   "outputs": [
    {
     "name": "stdout",
     "output_type": "stream",
     "text": [
      "Elastic Net model produced 13 non-zero coefficients.\n"
     ]
    },
    {
     "data": {
      "text/plain": [
       "<Figure size 576x21.6 with 0 Axes>"
      ]
     },
     "metadata": {},
     "output_type": "display_data"
    },
    {
     "data": {
      "image/png": "[encoded data removed]",
      "text/plain": [
       "<Figure size 1080x648 with 1 Axes>"
      ]
     },
     "metadata": {
      "needs_background": "light"
     },
     "output_type": "display_data"
    }
   ],
   "source": [
    "# get list of coefficients that are not 0\n",
    "coef_labels = [col for col in train_dummies.columns if col != 'saleprice'] # column labels\n",
    "enet_coef = pd.DataFrame(enet_mod.coef_, index = coef_labels)              # get coefficients from best model\n",
    "enet_coef = enet_coef[enet_coef[0] != 0]                                   # get non-zero coefficients\n",
    "print(f'Elastic Net model produced {enet_coef.shape[0]} non-zero coefficients.')\n",
    "\n",
    "# sort by absolute values\n",
    "enet_coef = enet_coef.reindex(enet_coef[0].abs().sort_values(ascending=True).index)\n",
    "\n",
    "plt.figure(figsize=(8, 0.3))\n",
    "enet_coef.tail(30).plot.barh(figsize=(15,9), legend = None)\n",
    "plt.title('Top 13 features with the highest coefficients')\n",
    "plt.xlabel('coefficient')\n",
    "plt.tight_layout()"
   ]
  },
  {
   "cell_type": "code",
   "execution_count": 42,
   "metadata": {},
   "outputs": [
    {
     "data": {
      "text/plain": [
       "<Figure size 576x21.6 with 0 Axes>"
      ]
     },
     "metadata": {},
     "output_type": "display_data"
    },
    {
     "data": {
      "image/png": "[encoded data removed]",
      "text/plain": [
       "<Figure size 1080x936 with 2 Axes>"
      ]
     },
     "metadata": {
      "needs_background": "light"
     },
     "output_type": "display_data"
    }
   ],
   "source": [
    "xtrain_df = pd.DataFrame(xtrain_scaled, columns = coef_labels)\n",
    "    \n",
    "n_predictors = 104\n",
    "mse_mean = []\n",
    "mse_se = []\n",
    "for n in range(1,n_predictors+1):\n",
    "    predictors = enet_coef.index[-n:]  \n",
    "    xtrain_sliced = xtrain_df[predictors] \n",
    "    # get validation set MSE and MSE variance\n",
    "    cv_scores = -cross_val_score(lasso_mod, xtrain_sliced, ytrain, scoring = 'neg_mean_squared_error', cv = 5)\n",
    "    mse_mean.append(cv_scores.mean())\n",
    "    mse_se.append(cv_scores.std()/np.sqrt(5))\n",
    "\n",
    "plt.figure(figsize=(8, 0.3))\n",
    "fig, ax = plt.subplots(ncols = 1, nrows = 2, figsize=(15,13))\n",
    "\n",
    "ax[0].plot(np.arange(1,n_predictors+1,1), mse_mean, 'k', label = 'MSE')\n",
    "ax[0].plot(np.arange(1,n_predictors+1,1),[a+b for a, b in zip(mse_mean,mse_se)], 'b:',label='+/- 1 SE')\n",
    "ax[0].plot(np.arange(1,n_predictors+1,1),[a-b for a, b, in zip(mse_mean,mse_se)], 'b:')\n",
    "ax[0].fill_between(np.arange(1,n_predictors+1,1), [a+b for a, b in zip(mse_mean,mse_se)],\n",
    "                                   [a-b for a, b in zip(mse_mean,mse_se)], alpha=0.2)\n",
    "ax[0].set_title('mean CV MSE vs number of predictors (n = 106)', fontsize=14)\n",
    "ax[0].set_ylabel('CV MSE  +/- SE', fontsize = 12)\n",
    "ax[0].set_xlabel('number of predictors', fontsize = 12)\n",
    "ax[0].set_xlim(0.5, n_predictors + 0.5)\n",
    "ax[0].legend(loc = 'upper right',  prop={'size': 12})\n",
    "\n",
    "ax[1].plot(np.arange(1,n_predictors+1,1), mse_mean, 'k', label = 'MSE')\n",
    "ax[1].plot(np.arange(1,n_predictors+1,1),[a+b for a, b in zip(mse_mean,mse_se)], 'b:',label='+/- 1 SE')\n",
    "ax[1].plot(np.arange(1,n_predictors+1,1),[a-b for a, b, in zip(mse_mean,mse_se)], 'b:')\n",
    "ax[1].fill_between(np.arange(1,n_predictors+1,1), [a+b for a, b in zip(mse_mean,mse_se)],\\\n",
    "                                   [a-b for a, b in zip(mse_mean,mse_se)], alpha=0.2)\n",
    "ax[1].axhline(mse_se[29]+mse_mean[29], linestyle='--', color='r',label = '+ 1 SE from MSE of 30 predictors')\n",
    "ax[1].set_title('mean CV MSE vs number of predictors (n = 50)', fontsize=14)\n",
    "ax[1].set_ylabel('CV MSE  +/- SE', fontsize = 12)\n",
    "ax[1].set_xlabel('number of predictors', fontsize = 12)\n",
    "ax[1].set_xticks(np.arange(1,41,1))\n",
    "ax[1].set_xlim(0.5, 40 + 0.5)\n",
    "ax[1].legend(loc = 'upper right',  prop={'size': 12})\n",
    "\n",
    "plt.tight_layout()"
   ]
  },
  {
   "cell_type": "code",
   "execution_count": null,
   "metadata": {},
   "outputs": [],
   "source": []
  }
 ],
 "metadata": {
  "kernelspec": {
   "display_name": "Python 3",
   "language": "python",
   "name": "python3"
  },
  "language_info": {
   "codemirror_mode": {
    "name": "ipython",
    "version": 3
   },
   "file_extension": ".py",
   "mimetype": "text/x-python",
   "name": "python",
   "nbconvert_exporter": "python",
   "pygments_lexer": "ipython3",
   "version": "3.7.1"
  }
 },
 "nbformat": 4,
 "nbformat_minor": 2
}
